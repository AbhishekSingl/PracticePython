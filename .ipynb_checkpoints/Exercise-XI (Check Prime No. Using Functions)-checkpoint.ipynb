{
 "cells": [
  {
   "cell_type": "code",
   "execution_count": 43,
   "metadata": {},
   "outputs": [],
   "source": [
    "def primeornot(n):\n",
    "#     print('Prime Number') if len([x for x in range(1,int(n/2)+1) if n%x==0])==1 else print('Not Prime Number')\n",
    "    return ('Prime Number' if len([x for x in range(1,int(n/2)+1) if n%x==0])==1 else 'Not Prime Number')\n",
    "\n",
    "#     We can write IF - ELSE in normal way like below:   \n",
    "\n",
    "#     if len([x for x in range(1,int(n/2)+1) if n%x==0])==1:\n",
    "#         print('Prime Number')\n",
    "#     else:\n",
    "#         print('Not Prime Number')"
   ]
  },
  {
   "cell_type": "code",
   "execution_count": 45,
   "metadata": {},
   "outputs": [
    {
     "name": "stdout",
     "output_type": "stream",
     "text": [
      "Enter a number: 5\n",
      "Prime Number\n"
     ]
    }
   ],
   "source": [
    "print(primeornot(int(input('Enter a number: '))))"
   ]
  },
  {
   "cell_type": "code",
   "execution_count": null,
   "metadata": {},
   "outputs": [],
   "source": []
  }
 ],
 "metadata": {
  "kernelspec": {
   "display_name": "Python 3",
   "language": "python",
   "name": "python3"
  },
  "language_info": {
   "codemirror_mode": {
    "name": "ipython",
    "version": 3
   },
   "file_extension": ".py",
   "mimetype": "text/x-python",
   "name": "python",
   "nbconvert_exporter": "python",
   "pygments_lexer": "ipython3",
   "version": "3.7.2"
  }
 },
 "nbformat": 4,
 "nbformat_minor": 2
}
