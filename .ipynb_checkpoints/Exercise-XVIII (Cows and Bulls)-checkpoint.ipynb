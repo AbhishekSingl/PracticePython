{
 "cells": [
  {
   "cell_type": "code",
   "execution_count": 1,
   "metadata": {},
   "outputs": [
    {
     "name": "stdout",
     "output_type": "stream",
     "text": [
      "Enter length of a number you want to guess: 4\n",
      "Give me a number (If want to Quit, press Q): 1234\n",
      "Cows: 0  Bulls: 1\n",
      "Iterations:  1\n",
      "Give me a number (If want to Quit, press Q): 1254\n",
      "Cows: 0  Bulls: 2\n",
      "Iterations:  2\n",
      "Give me a number (If want to Quit, press Q): 1654\n",
      "Cows: 0  Bulls: 2\n",
      "Iterations:  3\n",
      "Give me a number (If want to Quit, press Q): 5146\n",
      "Cows: 1  Bulls: 1\n",
      "Iterations:  4\n",
      "Give me a number (If want to Quit, press Q): 5147\n",
      "Cows: 0  Bulls: 1\n",
      "Iterations:  5\n",
      "Give me a number (If want to Quit, press Q): 2586\n",
      "Cows: 2  Bulls: 1\n",
      "Iterations:  6\n",
      "Give me a number (If want to Quit, press Q): 9526\n",
      "Cows: 3  Bulls: 0\n",
      "Iterations:  7\n",
      "Give me a number (If want to Quit, press Q): 0526\n",
      "Cows: 4  Bulls: 0\n",
      "YOU WIN\n",
      "Iterations:  8\n",
      "Give me a number (If want to Quit, press Q): Q\n"
     ]
    }
   ],
   "source": [
    "import random\n",
    "\n",
    "digits = int(input('Enter length of a number you want to guess: '))\n",
    "random_number = random.sample(range(10),digits)\n",
    "\n",
    "def cowbulls(num, bulls=0, cows=0, i=0):\n",
    "    for x in list(num):\n",
    "        if int(x) in random_number:\n",
    "            bulls+=1\n",
    "        if int(x)==random_number[i]:\n",
    "            cows+=1\n",
    "        i+=1\n",
    "    \n",
    "    print('Cows: %d  Bulls: %d' %(cows, bulls-cows))\n",
    "    if cows==digits:\n",
    "        print('YOU WIN')\n",
    "\n",
    "if __name__==\"__main__\":\n",
    "    \n",
    "    j=0\n",
    "    while(True):\n",
    "        j+=1\n",
    "        user_num=input('Give me a number (If want to Quit, press Q): ')\n",
    "        if user_num.upper()=='Q':\n",
    "            break\n",
    "        elif len(user_num)!=digits:\n",
    "            print('Kindly enter 4 digit number only')\n",
    "            j-=1\n",
    "            continue\n",
    "        cowbulls(user_num)\n",
    "        print('Iterations: ',j)\n"
   ]
  },
  {
   "cell_type": "code",
   "execution_count": null,
   "metadata": {},
   "outputs": [],
   "source": []
  }
 ],
 "metadata": {
  "kernelspec": {
   "display_name": "Python 3",
   "language": "python",
   "name": "python3"
  },
  "language_info": {
   "codemirror_mode": {
    "name": "ipython",
    "version": 3
   },
   "file_extension": ".py",
   "mimetype": "text/x-python",
   "name": "python",
   "nbconvert_exporter": "python",
   "pygments_lexer": "ipython3",
   "version": "3.6.2"
  }
 },
 "nbformat": 4,
 "nbformat_minor": 2
}
