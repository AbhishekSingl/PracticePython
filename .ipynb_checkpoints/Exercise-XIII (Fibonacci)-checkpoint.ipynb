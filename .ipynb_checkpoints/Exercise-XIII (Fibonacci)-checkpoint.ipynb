{
 "cells": [
  {
   "cell_type": "code",
   "execution_count": 8,
   "metadata": {},
   "outputs": [],
   "source": [
    "def fib(n):\n",
    "    f=list()\n",
    "    i=0\n",
    "    y1=1\n",
    "    f = [0,1]\n",
    "    while(i<n-2):\n",
    "        if i==0:\n",
    "            y3=y2=y1+i\n",
    "            \n",
    "        else:\n",
    "            y3=y1+y2\n",
    "            y1=y2\n",
    "            y2=y3\n",
    "        f.append(y3)\n",
    "        \n",
    "        \n",
    "        i+=1\n",
    "    return f"
   ]
  },
  {
   "cell_type": "code",
   "execution_count": 9,
   "metadata": {},
   "outputs": [
    {
     "data": {
      "text/plain": [
       "[0, 1, 1, 2, 3, 5, 8, 13, 21, 34]"
      ]
     },
     "execution_count": 9,
     "metadata": {},
     "output_type": "execute_result"
    }
   ],
   "source": [
    "fib(10)"
   ]
  }
 ],
 "metadata": {
  "kernelspec": {
   "display_name": "Python 3",
   "language": "python",
   "name": "python3"
  },
  "language_info": {
   "codemirror_mode": {
    "name": "ipython",
    "version": 3
   },
   "file_extension": ".py",
   "mimetype": "text/x-python",
   "name": "python",
   "nbconvert_exporter": "python",
   "pygments_lexer": "ipython3",
   "version": "3.7.2"
  }
 },
 "nbformat": 4,
 "nbformat_minor": 2
}
