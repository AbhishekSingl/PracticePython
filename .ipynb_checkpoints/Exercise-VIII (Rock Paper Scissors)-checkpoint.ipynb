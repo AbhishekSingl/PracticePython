{
 "cells": [
  {
   "cell_type": "code",
   "execution_count": null,
   "metadata": {},
   "outputs": [
    {
     "name": "stdout",
     "output_type": "stream",
     "text": [
      "Choose b/w R-P-S: Paper\n",
      "Choose b/w R-P-S: Rock\n",
      "Winner is P1\n",
      "Would you like to start a new game? (Y/N)Y\n",
      "Choose b/w R-P-S: Rock\n",
      "Choose b/w R-P-S: Scissor\n",
      "Winner is P1\n",
      "Would you like to start a new game? (Y/N)Y\n",
      "Choose b/w R-P-S: Paper\n",
      "Choose b/w R-P-S: Scissor\n",
      "Winner is P2\n"
     ]
    }
   ],
   "source": [
    "contd='Y'\n",
    "while(contd.upper()=='Y'):\n",
    "    switcher ={\n",
    "        'RockScissor':'Rock',\n",
    "        'ScissorPaper':'Scissor',\n",
    "        'PaperRock':'Paper'\n",
    "    }\n",
    "    \n",
    "    p1 = input('Choose b/w R-P-S: ')\n",
    "    p2 = input('Choose b/w R-P-S: ')\n",
    "    if p1==switcher.get(p1+p2):\n",
    "        print('Winner is P1')\n",
    "    else:\n",
    "        print('Winner is P2')\n",
    "    contd=input('Would you like to start a new game? (Y/N)')"
   ]
  },
  {
   "cell_type": "code",
   "execution_count": null,
   "metadata": {},
   "outputs": [],
   "source": []
  }
 ],
 "metadata": {
  "kernelspec": {
   "display_name": "Python 3",
   "language": "python",
   "name": "python3"
  },
  "language_info": {
   "codemirror_mode": {
    "name": "ipython",
    "version": 3
   },
   "file_extension": ".py",
   "mimetype": "text/x-python",
   "name": "python",
   "nbconvert_exporter": "python",
   "pygments_lexer": "ipython3",
   "version": "3.6.2"
  }
 },
 "nbformat": 4,
 "nbformat_minor": 2
}
