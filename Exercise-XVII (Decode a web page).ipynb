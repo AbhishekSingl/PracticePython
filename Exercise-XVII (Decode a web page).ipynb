{
 "cells": [
  {
   "cell_type": "code",
   "execution_count": 25,
   "metadata": {},
   "outputs": [],
   "source": [
    "import requests\n",
    "url = 'https://www.nytimes.com/2019/03/12/world/canada/ethiopian-plane-crash-canadian-families.html?action=click&module=Top%20Stories&pgtype=Homepage'"
   ]
  },
  {
   "cell_type": "code",
   "execution_count": 26,
   "metadata": {},
   "outputs": [],
   "source": [
    "r = requests.get(url)"
   ]
  },
  {
   "cell_type": "code",
   "execution_count": 27,
   "metadata": {},
   "outputs": [],
   "source": [
    "r_html= r.text"
   ]
  },
  {
   "cell_type": "code",
   "execution_count": 28,
   "metadata": {},
   "outputs": [],
   "source": [
    "from bs4 import BeautifulSoup as bs"
   ]
  },
  {
   "cell_type": "code",
   "execution_count": 31,
   "metadata": {},
   "outputs": [],
   "source": [
    "soup = bs(r_html,'html.parser')"
   ]
  },
  {
   "cell_type": "code",
   "execution_count": 88,
   "metadata": {},
   "outputs": [
    {
     "data": {
      "text/plain": [
       "'Three Generations of a Canadian Family Died in Ethiopian Plane Crash - The New York Times'"
      ]
     },
     "execution_count": 88,
     "metadata": {},
     "output_type": "execute_result"
    }
   ],
   "source": [
    "soup.find('title').string"
   ]
  },
  {
   "cell_type": "code",
   "execution_count": 87,
   "metadata": {},
   "outputs": [
    {
     "data": {
      "text/plain": [
       "'Three Generations of a Canadian Family Died in Ethiopian Plane Crash - The New York Times'"
      ]
     },
     "execution_count": 87,
     "metadata": {},
     "output_type": "execute_result"
    }
   ],
   "source": [
    "soup.find('title').get_text()"
   ]
  },
  {
   "cell_type": "code",
   "execution_count": 79,
   "metadata": {},
   "outputs": [
    {
     "data": {
      "text/plain": [
       "[<h2 class=\"css-zd32qr e6u6ph31\">Boeing 737 Max 8 Jets Are Grounded Nearly Everywhere</h2>,\n",
       " <h2 class=\"css-65zpa8 eoo0vm40\">Two-Thirds of the 737 Max 8 Jets in the World Have Been Pulled From the Skies</h2>,\n",
       " <h2 class=\"css-65zpa8 eoo0vm40\">The Victims of the Ethiopia Plane Crash</h2>,\n",
       " <h2 class=\"css-65zpa8 eoo0vm40\">E.U. Suspends Boeing 737 Max 8 Operations, but F.A.A. Stands Firm</h2>,\n",
       " <h2 class=\"css-vz7hjd\" id=\"site-index-label\">Site Index</h2>,\n",
       " <h2 class=\"css-vz7hjd\">Site Information Navigation</h2>]"
      ]
     },
     "execution_count": 79,
     "metadata": {},
     "output_type": "execute_result"
    }
   ],
   "source": [
    "soup.select( 'h2')"
   ]
  },
  {
   "cell_type": "code",
   "execution_count": 83,
   "metadata": {},
   "outputs": [
    {
     "data": {
      "text/plain": [
       "[<h2 class=\"css-zd32qr e6u6ph31\">Boeing 737 Max 8 Jets Are Grounded Nearly Everywhere</h2>,\n",
       " <h2 class=\"css-65zpa8 eoo0vm40\">Two-Thirds of the 737 Max 8 Jets in the World Have Been Pulled From the Skies</h2>,\n",
       " <h2 class=\"css-65zpa8 eoo0vm40\">The Victims of the Ethiopia Plane Crash</h2>,\n",
       " <h2 class=\"css-65zpa8 eoo0vm40\">E.U. Suspends Boeing 737 Max 8 Operations, but F.A.A. Stands Firm</h2>,\n",
       " <h2 class=\"css-vz7hjd\" id=\"site-index-label\">Site Index</h2>,\n",
       " <h2 class=\"css-vz7hjd\">Site Information Navigation</h2>]"
      ]
     },
     "execution_count": 83,
     "metadata": {},
     "output_type": "execute_result"
    }
   ],
   "source": [
    "soup.find_all('h2')"
   ]
  },
  {
   "cell_type": "code",
   "execution_count": 84,
   "metadata": {},
   "outputs": [
    {
     "name": "stdout",
     "output_type": "stream",
     "text": [
      "Site Index\n"
     ]
    }
   ],
   "source": [
    "for x in soup.find_all('h2',{'id':'site-index-label', 'class':'css-vz7hjd'}):\n",
    "    print(x.get_text())"
   ]
  },
  {
   "cell_type": "code",
   "execution_count": 75,
   "metadata": {},
   "outputs": [],
   "source": [
    "a = soup.find('h2')"
   ]
  },
  {
   "cell_type": "code",
   "execution_count": 78,
   "metadata": {},
   "outputs": [
    {
     "data": {
      "text/plain": [
       "{'class': ['css-zd32qr', 'e6u6ph31']}"
      ]
     },
     "execution_count": 78,
     "metadata": {},
     "output_type": "execute_result"
    }
   ],
   "source": [
    "a.attrs"
   ]
  },
  {
   "cell_type": "code",
   "execution_count": null,
   "metadata": {},
   "outputs": [],
   "source": []
  }
 ],
 "metadata": {
  "kernelspec": {
   "display_name": "Python 3",
   "language": "python",
   "name": "python3"
  },
  "language_info": {
   "codemirror_mode": {
    "name": "ipython",
    "version": 3
   },
   "file_extension": ".py",
   "mimetype": "text/x-python",
   "name": "python",
   "nbconvert_exporter": "python",
   "pygments_lexer": "ipython3",
   "version": "3.7.2"
  }
 },
 "nbformat": 4,
 "nbformat_minor": 2
}
