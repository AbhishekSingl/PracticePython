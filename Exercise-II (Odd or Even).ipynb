{
 "cells": [
  {
   "cell_type": "code",
   "execution_count": 11,
   "metadata": {},
   "outputs": [
    {
     "name": "stdout",
     "output_type": "stream",
     "text": [
      "Enter a number: 4\n",
      "Number is EVEN\n",
      "Want to repeat(Y/N): y\n",
      "Enter a number: 2\n",
      "Number is EVEN\n",
      "Want to repeat(Y/N): y\n",
      "Enter a number: 3\n",
      "Number is ODD\n",
      "Want to repeat(Y/N): n\n"
     ]
    }
   ],
   "source": [
    "Contd='Y'\n",
    "while(Contd.upper()=='Y'):\n",
    "    n = int(input('Enter a number: '))\n",
    "    if n%2==0:\n",
    "        print('Number is EVEN')\n",
    "    else:\n",
    "        print('Number is ODD')\n",
    "        \n",
    "    Contd=input('Want to repeat(Y/N): ')\n"
   ]
  },
  {
   "cell_type": "code",
   "execution_count": null,
   "metadata": {},
   "outputs": [],
   "source": []
  }
 ],
 "metadata": {
  "kernelspec": {
   "display_name": "Python 3",
   "language": "python",
   "name": "python3"
  },
  "language_info": {
   "codemirror_mode": {
    "name": "ipython",
    "version": 3
   },
   "file_extension": ".py",
   "mimetype": "text/x-python",
   "name": "python",
   "nbconvert_exporter": "python",
   "pygments_lexer": "ipython3",
   "version": "3.7.2"
  }
 },
 "nbformat": 4,
 "nbformat_minor": 2
}
