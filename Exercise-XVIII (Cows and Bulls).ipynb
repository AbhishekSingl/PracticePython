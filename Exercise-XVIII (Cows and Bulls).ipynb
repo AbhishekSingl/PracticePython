{
 "cells": [
  {
   "cell_type": "code",
   "execution_count": 11,
   "metadata": {},
   "outputs": [
    {
     "name": "stdout",
     "output_type": "stream",
     "text": [
      "Enter length of a number you want to guess: 3\n",
      "Give me a number (If want to Quit, press Q): 1234\n",
      "Kindly enter 4 digit number only\n",
      "Give me a number (If want to Quit, press Q): 12\n",
      "Kindly enter 4 digit number only\n",
      "Give me a number (If want to Quit, press Q): 123\n",
      "Cows: 0  Bulls: 0\n",
      "Iterations:  1\n",
      "Give me a number (If want to Quit, press Q): 456\n",
      "Cows: 0  Bulls: 2\n",
      "Iterations:  2\n",
      "Give me a number (If want to Quit, press Q): 457\n",
      "Cows: 0  Bulls: 1\n",
      "Iterations:  3\n",
      "Give me a number (If want to Quit, press Q): 589\n",
      "Cows: 1  Bulls: 0\n",
      "Iterations:  4\n",
      "Give me a number (If want to Quit, press Q): 409\n",
      "Cows: 0  Bulls: 1\n",
      "Iterations:  5\n",
      "Give me a number (If want to Quit, press Q): 509\n",
      "Cows: 0  Bulls: 0\n",
      "Iterations:  6\n",
      "Give me a number (If want to Quit, press Q): 589\n",
      "Cows: 1  Bulls: 0\n",
      "Iterations:  7\n",
      "Give me a number (If want to Quit, press Q): 480\n",
      "Cows: 1  Bulls: 1\n",
      "Iterations:  8\n",
      "Give me a number (If want to Quit, press Q): 684\n",
      "Cows: 3  Bulls: 0\n",
      "YOU WIN\n",
      "Iterations:  9\n",
      "Give me a number (If want to Quit, press Q): q\n"
     ]
    }
   ],
   "source": [
    "import random\n",
    "\n",
    "digits = int(input('Enter length of a number you want to guess: '))\n",
    "random_number = random.sample(range(10),digits)\n",
    "\n",
    "def cowbulls(num, bulls=0, cows=0, i=0):\n",
    "    for x in list(num):\n",
    "        if int(x) in random_number:\n",
    "            bulls+=1\n",
    "        if int(x)==random_number[i]:\n",
    "            cows+=1\n",
    "        i+=1\n",
    "    \n",
    "    print('Cows: %d  Bulls: %d' %(cows, bulls-cows))\n",
    "    if cows==digits:\n",
    "        print('YOU WIN')\n",
    "\n",
    "if __name__==\"__main__\":\n",
    "    \n",
    "    j=0\n",
    "    while(True):\n",
    "        j+=1\n",
    "        user_num=input('Give me a number (If want to Quit, press Q): ')\n",
    "        if user_num.upper()=='Q':\n",
    "            break\n",
    "        elif len(user_num)!=digits:\n",
    "            print('Kindly enter 4 digit number only')\n",
    "            j-=1\n",
    "            continue\n",
    "        cowbulls(user_num)\n",
    "        print('Iterations: ',j)\n"
   ]
  },
  {
   "cell_type": "code",
   "execution_count": null,
   "metadata": {},
   "outputs": [],
   "source": []
  }
 ],
 "metadata": {
  "kernelspec": {
   "display_name": "Python 3",
   "language": "python",
   "name": "python3"
  },
  "language_info": {
   "codemirror_mode": {
    "name": "ipython",
    "version": 3
   },
   "file_extension": ".py",
   "mimetype": "text/x-python",
   "name": "python",
   "nbconvert_exporter": "python",
   "pygments_lexer": "ipython3",
   "version": "3.7.2"
  }
 },
 "nbformat": 4,
 "nbformat_minor": 2
}
