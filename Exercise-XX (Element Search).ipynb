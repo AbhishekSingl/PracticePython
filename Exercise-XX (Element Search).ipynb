{
 "cells": [
  {
   "cell_type": "code",
   "execution_count": 7,
   "metadata": {},
   "outputs": [],
   "source": [
    "import random\n",
    "a = sorted(random.sample(range(100),3))\n"
   ]
  },
  {
   "cell_type": "code",
   "execution_count": 14,
   "metadata": {},
   "outputs": [
    {
     "name": "stdout",
     "output_type": "stream",
     "text": [
      "Enter a number to search: 48\n",
      "Number doesnot exist in the list\n",
      "[25, 45, 47]\n"
     ]
    }
   ],
   "source": [
    "def BinarySearch(a, num):\n",
    "    f=0\n",
    "    l=len(a)-1\n",
    "    while(f<=l):\n",
    "        if num==a[f] or num==a[l] or num==a[round((l+f)/2)]:\n",
    "            return('Number exists in the list')\n",
    "            break\n",
    "        elif num<a[f] or num>a[l]:\n",
    "            return('Number doesnot exist in the list')\n",
    "            break\n",
    "        elif num>a[f] and num<a[round((l+f)/2)]:\n",
    "            l=round((l+f)/2)-1\n",
    "        else:\n",
    "            f=round((l+f)/2)+1\n",
    "        \n",
    "    return('Number doesnot exist in the list')\n",
    "\n",
    "if __name__==\"__main__\":\n",
    "    print(BinarySearch(a,int(input('Enter a number to search: '))))\n",
    "    print(a)"
   ]
  }
 ],
 "metadata": {
  "kernelspec": {
   "display_name": "Python 3",
   "language": "python",
   "name": "python3"
  },
  "language_info": {
   "codemirror_mode": {
    "name": "ipython",
    "version": 3
   },
   "file_extension": ".py",
   "mimetype": "text/x-python",
   "name": "python",
   "nbconvert_exporter": "python",
   "pygments_lexer": "ipython3",
   "version": "3.7.2"
  }
 },
 "nbformat": 4,
 "nbformat_minor": 2
}
