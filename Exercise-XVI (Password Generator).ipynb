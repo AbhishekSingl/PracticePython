{
 "cells": [
  {
   "cell_type": "code",
   "execution_count": 53,
   "metadata": {},
   "outputs": [
    {
     "name": "stdout",
     "output_type": "stream",
     "text": [
      "Type of password - Easy(E); Medium(M); Difficult(D): A\n",
      "Wrong Input\n",
      "Do you want to generate password (y/n)?y\n",
      "Type of password - Easy(E); Medium(M); Difficult(D): d\n",
      "Your password is:  wu~I`Y\n",
      "Do you want to generate password (y/n)?y\n",
      "Type of password - Easy(E); Medium(M); Difficult(D): m\n",
      "Your password is:  gyUKDo\n",
      "Do you want to generate password (y/n)?y\n",
      "Type of password - Easy(E); Medium(M); Difficult(D): m\n",
      "Your password is:  wsXej4\n",
      "Do you want to generate password (y/n)?y\n",
      "Type of password - Easy(E); Medium(M); Difficult(D): d\n",
      "Your password is:  96OP%#\n",
      "Do you want to generate password (y/n)?n\n"
     ]
    }
   ],
   "source": [
    "import random\n",
    "import string\n",
    "\n",
    "def pass_gen(a=string.ascii_letters):\n",
    "    try:\n",
    "        psw = {\n",
    "                'Alpha': \"\".join(random.sample(a,6))\n",
    "        }\n",
    "        print('Your password is: ',psw.get('Alpha','Wrong Input.'))\n",
    "\n",
    "    except:\n",
    "        print('Wrong Input')\n",
    "        \n",
    "\n",
    "def pass_type(t):\n",
    "    typ = {\n",
    "        'e': string.ascii_letters.lower(),\n",
    "        'm': string.ascii_letters+string.digits,\n",
    "        'd': \"\".join(set(string.printable)-set(string.whitespace))\n",
    "    }\n",
    "    return(pass_gen(typ.get(t)))\n",
    "    \n",
    "contd='y'\n",
    "while(contd.upper()=='Y'):\n",
    "    pass_type(input('Type of password - Easy(E); Medium(M); Difficult(D): ').lower())\n",
    "    contd=input('Do you want to generate password (y/n)?')\n",
    "    "
   ]
  },
  {
   "cell_type": "code",
   "execution_count": null,
   "metadata": {},
   "outputs": [],
   "source": []
  }
 ],
 "metadata": {
  "kernelspec": {
   "display_name": "Python 3",
   "language": "python",
   "name": "python3"
  },
  "language_info": {
   "codemirror_mode": {
    "name": "ipython",
    "version": 3
   },
   "file_extension": ".py",
   "mimetype": "text/x-python",
   "name": "python",
   "nbconvert_exporter": "python",
   "pygments_lexer": "ipython3",
   "version": "3.6.2"
  }
 },
 "nbformat": 4,
 "nbformat_minor": 2
}
