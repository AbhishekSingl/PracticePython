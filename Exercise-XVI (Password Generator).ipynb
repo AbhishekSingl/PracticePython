{
 "cells": [
  {
   "cell_type": "code",
   "execution_count": null,
   "metadata": {},
   "outputs": [],
   "source": [
    "import random\n",
    "import string\n",
    "\n",
    "name=input('Enter your name: ')\n",
    "dob=input('Enter your D.O.B(MMDDYYYY): ').split('-')\n",
    "\n",
    "# Special Characters\n",
    "\n",
    "# sp_chr= set(char)-set([str(x) for x in range(10)])-set(list(ascii))\n",
    "\n",
    "def pass_gen(a=string.ascii_letters, b=string.punctuation+string.digits,num=10 ):\n",
    "    psw = {\n",
    "        'Alpha': \"\".join(random.sample(a,3))\n",
    "#         ,\n",
    "#         'NotAlpha': \"\".join(random.sample(b,2))\n",
    "    }\n",
    "    return(psw.get('Alpha','Not Working'))\n",
    "\n",
    "def pass_type(t):\n",
    "    typ = {\n",
    "        'e': (name,\"\",10),\n",
    "        'm': (name,dob,8)\n",
    "    }\n",
    "    print(*typ.get(t,'Wrong Input'))\n",
    "    return(pass_gen(*typ.get(t)))\n",
    "    \n",
    "contd='y'\n",
    "while(contd.upper()=='Y'):\n",
    "    \n",
    "    print(pass_type(input('Type of password - Easy(E); Medium(M); Difficult(D): ').lower()))\n",
    "    contd=input('Do you want to generate password (y/n)?')"
   ]
  },
  {
   "cell_type": "code",
   "execution_count": null,
   "metadata": {},
   "outputs": [],
   "source": [
    "import random\n",
    "import string\n",
    "character = \" \".join(chr(j) for j in range(33, 127))\n",
    "char = character.split()\n",
    "ascii = string.ascii_letters\n",
    "\n",
    "def generate():\n",
    "    \n",
    "    while(True):\n",
    "        q1 = input(\"Generate password (y/n)?: \")\n",
    "        if q1 == 'y':\n",
    "            strong_weak()\n",
    "        elif q1 == 'n':\n",
    "            print(\"Thank you for using!\")\n",
    "            break\n",
    "        else:\n",
    "            continue\n",
    "\n",
    "def strong_weak():\n",
    "    q2 = input(\"Strong or weak password? (s/w): \").lower()\n",
    "    if q2 == \"s\":\n",
    "        num1 = int(input(\"How many characters do you want to have?: \"))\n",
    "        print(\"Strong password: \" + str(\"\".join(random.sample(char, num1))))\n",
    "    else:\n",
    "        print(\"Weak password (default length is 6): \" + str(\"\".join(random.sample(ascii, 6))))\n",
    "\n",
    "generate()"
   ]
  },
  {
   "cell_type": "code",
   "execution_count": null,
   "metadata": {},
   "outputs": [],
   "source": [
    "set(char)--set(list(range(10)))-set(list(ascii))"
   ]
  },
  {
   "cell_type": "code",
   "execution_count": null,
   "metadata": {},
   "outputs": [],
   "source": [
    "char"
   ]
  },
  {
   "cell_type": "code",
   "execution_count": null,
   "metadata": {},
   "outputs": [],
   "source": [
    "list(range(10))"
   ]
  },
  {
   "cell_type": "code",
   "execution_count": null,
   "metadata": {},
   "outputs": [],
   "source": [
    "\" | \".join(char)"
   ]
  },
  {
   "cell_type": "code",
   "execution_count": null,
   "metadata": {},
   "outputs": [],
   "source": [
    "ord(char[0])"
   ]
  },
  {
   "cell_type": "code",
   "execution_count": null,
   "metadata": {},
   "outputs": [],
   "source": [
    "s='Abhishek'"
   ]
  },
  {
   "cell_type": "code",
   "execution_count": null,
   "metadata": {},
   "outputs": [],
   "source": [
    "s.separate()"
   ]
  },
  {
   "cell_type": "code",
   "execution_count": null,
   "metadata": {},
   "outputs": [],
   "source": [
    "def fn(x,y,z):\n",
    "    print(x,y,z)"
   ]
  },
  {
   "cell_type": "code",
   "execution_count": null,
   "metadata": {},
   "outputs": [],
   "source": [
    "a = (1,2,4)\n",
    "fn(*a)"
   ]
  },
  {
   "cell_type": "code",
   "execution_count": null,
   "metadata": {},
   "outputs": [],
   "source": []
  },
  {
   "cell_type": "code",
   "execution_count": null,
   "metadata": {},
   "outputs": [],
   "source": [
    "import string\n",
    "dir(string)"
   ]
  },
  {
   "cell_type": "code",
   "execution_count": null,
   "metadata": {},
   "outputs": [],
   "source": [
    "string.ascii_letters"
   ]
  },
  {
   "cell_type": "code",
   "execution_count": null,
   "metadata": {},
   "outputs": [],
   "source": [
    "string.digits"
   ]
  },
  {
   "cell_type": "code",
   "execution_count": null,
   "metadata": {},
   "outputs": [],
   "source": [
    "string.printable"
   ]
  },
  {
   "cell_type": "code",
   "execution_count": null,
   "metadata": {},
   "outputs": [],
   "source": [
    "string.punctuation"
   ]
  },
  {
   "cell_type": "code",
   "execution_count": null,
   "metadata": {},
   "outputs": [],
   "source": [
    "string.punctuation+string.digits"
   ]
  },
  {
   "cell_type": "code",
   "execution_count": null,
   "metadata": {},
   "outputs": [],
   "source": [
    "random.sample(string.ascii_letters,10)"
   ]
  },
  {
   "cell_type": "code",
   "execution_count": null,
   "metadata": {},
   "outputs": [],
   "source": []
  }
 ],
 "metadata": {
  "kernelspec": {
   "display_name": "Python 3",
   "language": "python",
   "name": "python3"
  },
  "language_info": {
   "codemirror_mode": {
    "name": "ipython",
    "version": 3
   },
   "file_extension": ".py",
   "mimetype": "text/x-python",
   "name": "python",
   "nbconvert_exporter": "python",
   "pygments_lexer": "ipython3",
   "version": "3.7.2"
  }
 },
 "nbformat": 4,
 "nbformat_minor": 2
}
