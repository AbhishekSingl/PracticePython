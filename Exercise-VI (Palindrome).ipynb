{
 "cells": [
  {
   "cell_type": "code",
   "execution_count": 70,
   "metadata": {},
   "outputs": [
    {
     "name": "stdout",
     "output_type": "stream",
     "text": [
      "Enter a string: Naman\n",
      "String is Palindrome\n"
     ]
    }
   ],
   "source": [
    "s = input('Enter a string: ').upper()\n",
    "count=0\n",
    "for x in range(int(len(s)/2)):\n",
    "    if s[x]==s[len(s)-1-x]:\n",
    "        count+=1\n",
    "\n",
    "if count==int(len(s)/2):\n",
    "    print('String is Palindrome')\n",
    "else:\n",
    "    print('String is not Palindrome')"
   ]
  },
  {
   "cell_type": "code",
   "execution_count": 67,
   "metadata": {},
   "outputs": [
    {
     "name": "stdout",
     "output_type": "stream",
     "text": [
      "NOT Palindrome\n"
     ]
    }
   ],
   "source": [
    "if (a[5:0:-1]+[a[0]]) == a:\n",
    "    print('String is a Palindrome')\n",
    "else:\n",
    "    print('NOT Palindrome')"
   ]
  },
  {
   "cell_type": "code",
   "execution_count": 75,
   "metadata": {},
   "outputs": [
    {
     "name": "stdout",
     "output_type": "stream",
     "text": [
      "String is a Palindrome\n"
     ]
    }
   ],
   "source": [
    "if (s[5:0:-1]+s[0]) == s:\n",
    "    print('String is a Palindrome')\n",
    "else:\n",
    "    print('NOT Palindrome')"
   ]
  },
  {
   "cell_type": "code",
   "execution_count": null,
   "metadata": {},
   "outputs": [],
   "source": []
  }
 ],
 "metadata": {
  "kernelspec": {
   "display_name": "Python 3",
   "language": "python",
   "name": "python3"
  },
  "language_info": {
   "codemirror_mode": {
    "name": "ipython",
    "version": 3
   },
   "file_extension": ".py",
   "mimetype": "text/x-python",
   "name": "python",
   "nbconvert_exporter": "python",
   "pygments_lexer": "ipython3",
   "version": "3.7.2"
  }
 },
 "nbformat": 4,
 "nbformat_minor": 2
}
